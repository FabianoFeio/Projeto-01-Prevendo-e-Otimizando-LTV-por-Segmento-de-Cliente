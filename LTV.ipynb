{
 "cells": [
  {
   "cell_type": "markdown",
   "metadata": {},
   "source": [
    "### <font color='blue'>Icoo Data Science</font>\n",
    "\n",
    "# <font color='blue'>Mediphacos - Marketing Analytics</font>\n",
    "\n",
    "\n",
    "### <font color='Brown'>Poc - Prova de Conceito</font>"
   ]
  },
  {
   "cell_type": "markdown",
   "metadata": {},
   "source": [
    "### <font color='Brown'>Objetivo</font>\n",
    "## <font color='blue'>Life Time Value Baseado em Segmentação de Clientes</font>\n",
    "#### ♦ Etapa 01: Coleta de Dados\n",
    "#### ♦ Etapa 02: Criar os segmentos de clientes\n",
    "#### ♦ Etapa 03: Computar o fauramento por segmento\n",
    "#### ♦ Etapa 04: Prever o Faturamento por segmento\n",
    "#### ♦ Etapa 05: Encontrar o LTV baseado nessa previsão "
   ]
  },
  {
   "cell_type": "markdown",
   "metadata": {},
   "source": [
    "# <font color='Orange'>ETAPA 01: Criar os segmentos de clientes</font>"
   ]
  },
  {
   "cell_type": "code",
   "execution_count": null,
   "metadata": {},
   "outputs": [],
   "source": [
    "# Ferramentas Data Science\n",
    "import pandas as pd\n",
    "import seaborn as sns\n",
    "import numpy as np\n",
    "import matplotlib.pyplot as plt\n",
    "import matplotlib as mpl\n",
    "%matplotlib inline\n",
    "\n",
    "from scipy import stats\n",
    "from sklearn import linear_model as lm\n",
    "from sklearn.metrics import r2_score\n",
    "from sklearn.preprocessing import Normalizer\n",
    "from sklearn.preprocessing import LabelEncoder\n",
    "import statsmodels.api as sm\n",
    "import statsmodels.formula.api as smf\n",
    "\n",
    "from datetime import datetime, date\n",
    "from pandasql import sqldf\n",
    "import mysql.connector as mypy\n",
    "import warnings\n",
    "warnings.filterwarnings(\"ignore\")"
   ]
  },
  {
   "cell_type": "code",
   "execution_count": null,
   "metadata": {},
   "outputs": [],
   "source": [
    "# Ferramentas Gráficas\n",
    "import plotly \n",
    "plotly.tools.set_credentials_file(username='ticula', api_key='suwl51AkciUx24bJuPjb')\n",
    "plotly.offline.init_notebook_mode()\n",
    "\n",
    "import plotly.graph_objs as go\n",
    "import plotly.plotly as py\n",
    "\n",
    "# Cufflinks wrapper on plotly\n",
    "import cufflinks as cf\n",
    "\n",
    "# Display all cell outputs\n",
    "from IPython.core.interactiveshell import InteractiveShell\n",
    "InteractiveShell.ast_node_interactivity = 'all'\n",
    "\n",
    "from plotly.offline import iplot\n",
    "cf.go_offline()\n",
    "\n",
    "# Set global theme\n",
    "# cf.set_config_file(world_readable=True, theme='pearl')\n",
    "cf.set_config_file(offline=True, world_readable=True, theme='pearl')"
   ]
  },
  {
   "cell_type": "code",
   "execution_count": null,
   "metadata": {},
   "outputs": [],
   "source": [
    "# Conexão com o banco\n",
    "conn = mypy.connect(host='192.168.0.129', user='pipedrive', passwd='pipe@#951753#@drive', db='dw', charset='utf8')\n",
    "cur = conn.cursor()"
   ]
  },
  {
   "cell_type": "code",
   "execution_count": null,
   "metadata": {},
   "outputs": [],
   "source": [
    "# função para usar SQL\n",
    "pysql = lambda query: sqldf(query, globals())"
   ]
  },
  {
   "cell_type": "code",
   "execution_count": null,
   "metadata": {},
   "outputs": [],
   "source": [
    "# Extração dos dados\n",
    "cur.execute('''\n",
    "            SELECT \n",
    "            A.SK_ORG AS cliente_id,\n",
    "            B.DT_DATA AS data_compra,\n",
    "            TRUNCATE(SUM(A.VL_VENDA),2) AS valor_compra\n",
    "            FROM FATO_FAT A \n",
    "                LEFT JOIN DIM_TEMPO B\n",
    "                    ON A.SK_DATA = B.SK_DATA\n",
    "            GROUP BY A.NK_FAT\n",
    "            ''')"
   ]
  },
  {
   "cell_type": "code",
   "execution_count": null,
   "metadata": {},
   "outputs": [],
   "source": [
    "dados = cur.fetchall()"
   ]
  },
  {
   "cell_type": "code",
   "execution_count": null,
   "metadata": {},
   "outputs": [],
   "source": [
    "# Transformação em Tabela\n",
    "dados = pd.DataFrame(dados, columns=[x[0] for x in cur.description])"
   ]
  },
  {
   "cell_type": "code",
   "execution_count": null,
   "metadata": {},
   "outputs": [],
   "source": [
    "# Fechando a conexão com o banco\n",
    "conn.close()\n",
    "cur.close()"
   ]
  },
  {
   "cell_type": "code",
   "execution_count": null,
   "metadata": {},
   "outputs": [],
   "source": [
    "dados.dtypes"
   ]
  },
  {
   "cell_type": "code",
   "execution_count": null,
   "metadata": {},
   "outputs": [],
   "source": [
    "dados.shape"
   ]
  },
  {
   "cell_type": "code",
   "execution_count": null,
   "metadata": {},
   "outputs": [],
   "source": [
    "dados.tail()"
   ]
  },
  {
   "cell_type": "markdown",
   "metadata": {},
   "source": [
    "# <font color=\"orange\">ETAPA 2: Segmentando Grupos de Clientes</font>"
   ]
  },
  {
   "cell_type": "markdown",
   "metadata": {},
   "source": [
    "## <font color='Purple'>Uma Segmentacao Gerencial RFM  - (Recency, Frequency, Monetary Value)</font>\n",
    "### <font color='Purple'>Duas Classificação. Uma ABC e outra LEAD SCORE. </font>"
   ]
  },
  {
   "cell_type": "code",
   "execution_count": null,
   "metadata": {},
   "outputs": [],
   "source": [
    "# Fazendo uma cópia dos dados para presevar os dados originais\n",
    "df = dados.copy()  "
   ]
  },
  {
   "cell_type": "code",
   "execution_count": null,
   "metadata": {},
   "outputs": [],
   "source": [
    "# EXTRAINDO O ANO DA DATA DA COMPRA\n",
    "df['ano_compra'] = df.data_compra.dt.year"
   ]
  },
  {
   "cell_type": "code",
   "execution_count": null,
   "metadata": {},
   "outputs": [],
   "source": [
    "# EXTRAINDO DIAS DESDE A ÚLTIMA COMPRA. É NESSA COLUNA QUE SERÁ BASEADO A CRIAÇÃO DA RECÊNCIA DE COMPRA \n",
    "df['dias_desde'] = (date.today() - df.data_compra).dt.days"
   ]
  },
  {
   "cell_type": "code",
   "execution_count": null,
   "metadata": {},
   "outputs": [],
   "source": [
    "# COMPUTANDO DADOS DE CLIENTES\n",
    "clientes = pysql(''' \n",
    "        SELECT \n",
    "        cliente_id, \n",
    "        MIN(dias_desde) AS recencia,  \n",
    "        COUNT(*) AS frequencia, \n",
    "        MAX(dias_desde) AS idade,\n",
    "        AVG(valor_compra) AS media_compra,\n",
    "        MAX(valor_compra) AS maior_compra,\n",
    "        SUM(valor_compra) AS total_compra\n",
    "        FROM df\n",
    "        GROUP BY 1\n",
    "        '''); clientes = clientes.round(2)"
   ]
  },
  {
   "cell_type": "code",
   "execution_count": null,
   "metadata": {},
   "outputs": [],
   "source": [
    "# GERANDO ESTATÍSTICO DESCRITIVA. \n",
    "# ELA RESUME A TENDÊNCIA CENTRAL, A DISPERSÃO E A FORMA DE DISTRIBUIÇÃO. \n",
    "# HÁ VÁRIAS MANEIRAS DE FAZER A CLASSIFICAÇÃO. POR EXEMPLO: DISTRIBUIÇÃO DE FREQUÊNCIA, PERCENTIS, PESOS, ETC.\n",
    "# A EXPERIENCIA DEMONSTRA QUE POUCOS CLIENTES, DE 10% A 20% DO TOTAL, SÃO DA CLASSE A, \n",
    "# ENQUANTO UM GRANDE DE QUANTIDADE, EM TORNO DE 50%, É DA CLASSE C E 30% A 40%, SÃO DA CLASSE B. \n",
    "clientes.iloc[:,1:].describe([.20, .30, .4, .50, .80])"
   ]
  },
  {
   "cell_type": "code",
   "execution_count": null,
   "metadata": {},
   "outputs": [],
   "source": [
    "# FUNÇÃO PARA CLASSIFICAÇÃO ABC. \n",
    "\n",
    "def abc(x): \n",
    "    if x > clientes.media_compra.quantile(q = 0.8): \n",
    "        return str('A')\n",
    "    elif (x <= clientes.media_compra.quantile(q = 0.8)) and (x > clientes.media_compra.quantile(q = 0.4)):\n",
    "        return str('B')\n",
    "    else:\n",
    "        return str('C')"
   ]
  },
  {
   "cell_type": "code",
   "execution_count": null,
   "metadata": {},
   "outputs": [],
   "source": [
    "# FUNCAO PARA CLASSIFICAÇÃO LEAD SCORING. \n",
    "def lead(x): \n",
    "    if x > 365*2: # Recência maior que 2 anos\n",
    "        return str('I') # Inativo\n",
    "    elif (x <= 365*2) and (x > 365): # Leads que não compram a mais do que 2 anos\n",
    "        return str('F') # Frio\n",
    "    elif (x <= 365) and (x > 180): # Leads que não compram a mais do que 1 ano\n",
    "        return str('M') # Morno\n",
    "    elif (x <= 180) and (x > 90): # Leads que não compram a mais do que 6 meses  \n",
    "        return str('Q') # Quente\n",
    "    elif x <= 90: # Leads que compraram a em 3 meses  \n",
    "        return str('A') # Ativo\n",
    "    else:\n",
    "        return str('Nan') # Recência menor que seis meses"
   ]
  },
  {
   "cell_type": "code",
   "execution_count": null,
   "metadata": {},
   "outputs": [],
   "source": [
    "clientes['abc'] = [abc for abc in map(abc, clientes.media_compra)]"
   ]
  },
  {
   "cell_type": "code",
   "execution_count": null,
   "metadata": {},
   "outputs": [],
   "source": [
    "clientes['lead'] = [lead for lead in map(lead, clientes.recencia)]"
   ]
  },
  {
   "cell_type": "code",
   "execution_count": null,
   "metadata": {},
   "outputs": [],
   "source": [
    "clientes['segmento'] = clientes.abc + clientes.lead"
   ]
  },
  {
   "cell_type": "code",
   "execution_count": null,
   "metadata": {},
   "outputs": [],
   "source": [
    "clientes['media_compra'] = clientes.media_compra.round(decimals=2)"
   ]
  },
  {
   "cell_type": "code",
   "execution_count": null,
   "metadata": {},
   "outputs": [],
   "source": [
    "grouped = clientes[['recencia','frequencia','media_compra', 'segmento']].groupby(['segmento']).agg(['max', 'min','std']).round(decimals=2)"
   ]
  },
  {
   "cell_type": "code",
   "execution_count": null,
   "metadata": {},
   "outputs": [],
   "source": [
    "clientes.sort_values('recencia', ascending=True)"
   ]
  },
  {
   "cell_type": "code",
   "execution_count": null,
   "metadata": {},
   "outputs": [],
   "source": [
    "clientes[['recencia', 'frequencia','media_compra','segmento']].set_index('segmento').iplot(\n",
    "    kind='bar', \n",
    "    barmode='group',\n",
    "    title = 'SEGMENTOS POR RECÊNCIA',\n",
    "    yTitle = 'Recência',\n",
    "    xTitle = 'Segmento'\n",
    ")"
   ]
  },
  {
   "cell_type": "code",
   "execution_count": null,
   "metadata": {},
   "outputs": [],
   "source": [
    "clientes[['frequencia', 'segmento']].set_index('segmento').iplot(\n",
    "    kind='bar', \n",
    "    barmode='group',\n",
    "    title = 'SEGMENTOS POR FREQUÊNCIA',\n",
    "    yTitle = 'Frequência',\n",
    "    xTitle = 'Segmento'\n",
    ")"
   ]
  },
  {
   "cell_type": "code",
   "execution_count": null,
   "metadata": {},
   "outputs": [],
   "source": [
    "clientes[['media_compra', 'segmento']].set_index('segmento').iplot(\n",
    "    kind='bar', \n",
    "    barmode='group',\n",
    "    title = 'SEGMENTOS POR TICKET MÉDIO',\n",
    "    yTitle = 'Valor ',\n",
    "    xTitle = 'Segmento'\n",
    ")"
   ]
  },
  {
   "cell_type": "markdown",
   "metadata": {},
   "source": [
    "# <font color='Orange'>ETAPA 3: Computar o fauramento por segmento</font>"
   ]
  },
  {
   "cell_type": "code",
   "execution_count": null,
   "metadata": {},
   "outputs": [],
   "source": [
    "fat_2019 = pysql('''SELECT cliente_id, SUM(valor_compra) AS faturamento_2019 FROM df WHERE ano_compra = 2019 GROUP BY 1''').round(decimals=2)"
   ]
  },
  {
   "cell_type": "code",
   "execution_count": null,
   "metadata": {},
   "outputs": [],
   "source": [
    "fat_2018 = pysql('''SELECT cliente_id, SUM(valor_compra) AS faturamento_2018 FROM df WHERE ano_compra = 2018 GROUP BY 1''').round(decimals=2)"
   ]
  },
  {
   "cell_type": "code",
   "execution_count": null,
   "metadata": {},
   "outputs": [],
   "source": [
    "fat_2017 = pysql('''SELECT cliente_id, SUM(valor_compra) AS faturamento_2017 FROM df WHERE ano_compra = 2017 GROUP BY 1''').round(decimals=2)"
   ]
  },
  {
   "cell_type": "code",
   "execution_count": null,
   "metadata": {},
   "outputs": [],
   "source": [
    "fat_2016 = pysql('''SELECT cliente_id, SUM(valor_compra) AS faturamento_2016 FROM df WHERE ano_compra = 2016 GROUP BY 1''').round(decimals=2)"
   ]
  },
  {
   "cell_type": "code",
   "execution_count": null,
   "metadata": {},
   "outputs": [],
   "source": [
    "fat_2015 = pysql('''SELECT cliente_id, SUM(valor_compra) AS faturamento_2015 FROM df WHERE ano_compra = 2015 GROUP BY 1''').round(decimals=2)"
   ]
  },
  {
   "cell_type": "code",
   "execution_count": null,
   "metadata": {},
   "outputs": [],
   "source": [
    "fat_2014 = pysql('''SELECT cliente_id, SUM(valor_compra) AS faturamento_2014 FROM df WHERE ano_compra = 2014 GROUP BY 1''').round(decimals=2)"
   ]
  },
  {
   "cell_type": "code",
   "execution_count": null,
   "metadata": {},
   "outputs": [],
   "source": [
    "seg = clientes.merge(fat_2014, on='cliente_id')"
   ]
  },
  {
   "cell_type": "code",
   "execution_count": null,
   "metadata": {},
   "outputs": [],
   "source": [
    "seg = seg.merge(fat_2015, on='cliente_id')"
   ]
  },
  {
   "cell_type": "code",
   "execution_count": null,
   "metadata": {},
   "outputs": [],
   "source": [
    "seg = seg.merge(fat_2016, on='cliente_id')"
   ]
  },
  {
   "cell_type": "code",
   "execution_count": null,
   "metadata": {},
   "outputs": [],
   "source": [
    "seg = seg.merge(fat_2017, on='cliente_id')"
   ]
  },
  {
   "cell_type": "code",
   "execution_count": null,
   "metadata": {},
   "outputs": [],
   "source": [
    "seg = seg.merge(fat_2018, on='cliente_id')"
   ]
  },
  {
   "cell_type": "code",
   "execution_count": null,
   "metadata": {},
   "outputs": [],
   "source": [
    "seg = seg.merge(fat_2019, on='cliente_id')"
   ]
  },
  {
   "cell_type": "code",
   "execution_count": null,
   "metadata": {},
   "outputs": [],
   "source": [
    "seg.sortlevel(level=1, axis=1, inplace=True)"
   ]
  },
  {
   "cell_type": "code",
   "execution_count": null,
   "metadata": {},
   "outputs": [],
   "source": [
    "seg[['recencia','frequencia','media_compra', 'segmento']].groupby(['segmento']).agg(['max', 'min','avg']).round(decimals=2)"
   ]
  },
  {
   "cell_type": "code",
   "execution_count": null,
   "metadata": {},
   "outputs": [],
   "source": [
    "seg[['faturamento_2019', 'faturamento_2018', 'faturamento_2017', 'faturamento_2016', 'faturamento_2015', 'faturamento_2014', 'segmento']].set_index('segmento').iplot(\n",
    "    kind='bar', \n",
    "    barmode='group',\n",
    "    title = 'Faturamento por Segmento',\n",
    "    yTitle = 'Faturamento',\n",
    "    xTitle = 'segmento'\n",
    ")"
   ]
  },
  {
   "cell_type": "markdown",
   "metadata": {},
   "source": [
    "# <font color='Orange'>Etapa 04: Prever o Faturamento por segmento</font>"
   ]
  },
  {
   "cell_type": "code",
   "execution_count": null,
   "metadata": {},
   "outputs": [],
   "source": [
    "df.tail()"
   ]
  },
  {
   "cell_type": "markdown",
   "metadata": {},
   "source": [
    "## Construindo os Dados de Treino"
   ]
  },
  {
   "cell_type": "code",
   "execution_count": null,
   "metadata": {},
   "outputs": [],
   "source": [
    "# # Computando faturamento gerado por clientes > 365 e Faturamento 2018 < 365\n",
    "clientes_2017 = pysql('''SELECT cliente_id,\n",
    "                               MIN(dias_desde -365) AS recencia ,\n",
    "                               MAX(dias_desde - 365) AS idade,\n",
    "                               COUNT(*) AS frequencia,\n",
    "                               MIN(valor_compra) AS menor_compra,\n",
    "                               AVG(valor_compra) AS media_compra,\n",
    "                               MAX(valor_compra) AS maior_compra,\n",
    "                               SUM(valor_compra) AS total_compra\n",
    "                        FROM df\n",
    "                        WHERE dias_desde > 365\n",
    "                        GROUP BY 1\n",
    "                        ORDER BY 1''').round(2)"
   ]
  },
  {
   "cell_type": "code",
   "execution_count": null,
   "metadata": {},
   "outputs": [],
   "source": [
    "clientes_2017.tail()"
   ]
  },
  {
   "cell_type": "code",
   "execution_count": null,
   "metadata": {},
   "outputs": [],
   "source": [
    "segmento = pysql(''' SELECT cliente_id, cluster FROM cluster2 ''')"
   ]
  },
  {
   "cell_type": "code",
   "execution_count": null,
   "metadata": {},
   "outputs": [],
   "source": [
    "in_sample = clientes_2017.merge(segmento, on='cliente_id')"
   ]
  },
  {
   "cell_type": "code",
   "execution_count": null,
   "metadata": {},
   "outputs": [],
   "source": [
    "in_sample.head()"
   ]
  },
  {
   "cell_type": "code",
   "execution_count": null,
   "metadata": {},
   "outputs": [],
   "source": [
    "in_sample = in_sample.merge(fat_2018, on='cliente_id')"
   ]
  },
  {
   "cell_type": "code",
   "execution_count": null,
   "metadata": {},
   "outputs": [],
   "source": [
    "in_sample.tail()"
   ]
  },
  {
   "cell_type": "code",
   "execution_count": null,
   "metadata": {},
   "outputs": [],
   "source": [
    "# TRANSFORMANDO A COLUNA CLUSTER EM VARIÁVEIS DUMMY\n",
    "le = LabelEncoder()"
   ]
  },
  {
   "cell_type": "code",
   "execution_count": null,
   "metadata": {},
   "outputs": [],
   "source": [
    "in_sample['cluster'] = le.fit_transform(in_sample.cluster)"
   ]
  },
  {
   "cell_type": "code",
   "execution_count": null,
   "metadata": {},
   "outputs": [],
   "source": [
    "in_sample.head()"
   ]
  },
  {
   "cell_type": "code",
   "execution_count": null,
   "metadata": {},
   "outputs": [],
   "source": [
    "# RETIRANDO CLIENTES NAO IDENTIFICADOS\n",
    "dados_treino = in_sample[in_sample['cliente_id'] != -1]"
   ]
  },
  {
   "cell_type": "code",
   "execution_count": null,
   "metadata": {},
   "outputs": [],
   "source": [
    "dados_treino.tail()"
   ]
  },
  {
   "cell_type": "markdown",
   "metadata": {},
   "source": [
    "## Construindo o Modelo Preditivo"
   ]
  },
  {
   "cell_type": "markdown",
   "metadata": {},
   "source": [
    "### Matriz de Correlação"
   ]
  },
  {
   "cell_type": "code",
   "execution_count": null,
   "metadata": {},
   "outputs": [],
   "source": [
    "# Normalizar os dados\n",
    "dados_treino.iloc[:,:-1].corr()"
   ]
  },
  {
   "cell_type": "code",
   "execution_count": null,
   "metadata": {},
   "outputs": [],
   "source": [
    "# Gerando a matriz\n",
    "X = dados_treino.iloc[:,:-1].corr()"
   ]
  },
  {
   "cell_type": "code",
   "execution_count": null,
   "metadata": {},
   "outputs": [],
   "source": [
    "# Gerando número de observações e variáveis\n",
    "obsevacoes = len(dados_treino)\n",
    "variaveis = dados_treino.columns[:-1]"
   ]
  },
  {
   "cell_type": "code",
   "execution_count": null,
   "metadata": {},
   "outputs": [],
   "source": [
    "# Criando um Correlation Plot\n",
    "def visualize_correlation_matrix(data, hurdle = 0.0):\n",
    "    R = np.corrcoef(data, rowvar = 0)\n",
    "    R[np.where(np.abs(R) < hurdle)] = 0.0\n",
    "    heatmap = plt.pcolor(R, cmap = mpl.cm.coolwarm, alpha = 0.8)\n",
    "    heatmap.axes.set_frame_on(False)\n",
    "    heatmap.axes.set_yticks(np.arange(R.shape[0]) + 0.5, minor = False)\n",
    "    heatmap.axes.set_xticks(np.arange(R.shape[1]) + 0.5, minor = False)\n",
    "    heatmap.axes.set_xticklabels(variaveis, minor = False)\n",
    "    plt.xticks(rotation=90)\n",
    "    heatmap.axes.set_yticklabels(variaveis, minor = False)\n",
    "    plt.tick_params(axis = 'both', which = 'both', bottom = 'off', top = 'off', left = 'off', right = 'off') \n",
    "    plt.colorbar()\n",
    "    plt.show()"
   ]
  },
  {
   "cell_type": "code",
   "execution_count": null,
   "metadata": {},
   "outputs": [],
   "source": [
    "# Visualizando o Plot\n",
    "visualize_correlation_matrix(X, hurdle = 0.5)"
   ]
  },
  {
   "cell_type": "code",
   "execution_count": null,
   "metadata": {},
   "outputs": [],
   "source": [
    "# Gerando eigenvalues e eigenvectors\n",
    "corr = np.corrcoef(X, rowvar = 0)\n",
    "eigenvalues, eigenvectors = np.linalg.eig(corr)"
   ]
  },
  {
   "cell_type": "code",
   "execution_count": null,
   "metadata": {},
   "outputs": [],
   "source": [
    "print (eigenvalues)"
   ]
  },
  {
   "cell_type": "code",
   "execution_count": null,
   "metadata": {},
   "outputs": [],
   "source": [
    "print (eigenvectors[:,2])"
   ]
  },
  {
   "cell_type": "code",
   "execution_count": null,
   "metadata": {},
   "outputs": [],
   "source": [
    "print (variaveis[2], variaveis[5], variaveis[7])"
   ]
  },
  {
   "cell_type": "markdown",
   "metadata": {},
   "source": [
    "### Normalizar Dados"
   ]
  },
  {
   "cell_type": "code",
   "execution_count": null,
   "metadata": {},
   "outputs": [],
   "source": [
    "# Criando dados de teste\n",
    "dados_teste = pysql('''SELECT cliente_id,\n",
    "                               MIN(dias_desde) AS recencia ,\n",
    "                               COUNT(*) AS frequencia,\n",
    "                               AVG(valor_compra) AS media_compra\n",
    "                        FROM df\n",
    "                        WHERE ano_compra = 2018 AND cliente_id <> -1\n",
    "                        GROUP BY 1\n",
    "                        ORDER BY 1''').round(2)"
   ]
  },
  {
   "cell_type": "code",
   "execution_count": null,
   "metadata": {},
   "outputs": [],
   "source": [
    "dados_teste1 = dados_teste.iloc[:,1:]; x_teste.head()"
   ]
  },
  {
   "cell_type": "code",
   "execution_count": null,
   "metadata": {},
   "outputs": [],
   "source": [
    "X = dados_treino[['recencia','frequencia','media_compra']]\n",
    "y = dados_treino['faturamento_2018'].values\n",
    "\n",
    "# Normalziando Dados\n",
    "Normalizer().fit_transform(X)\n",
    "Normalizer().fit_transform(dados_teste1)"
   ]
  },
  {
   "cell_type": "code",
   "execution_count": null,
   "metadata": {},
   "outputs": [],
   "source": [
    "# Datasets de treino e de teste\n",
    "\n",
    "X_treino = X\n",
    "y_treino = dados_treino['faturamento_2018'].values\n",
    "x_teste = dados_teste1\n",
    "\n",
    "# Criando o objeto linear regression\n",
    "modelo = lm.LinearRegression(normalize = False, fit_intercept = True)\n",
    "\n",
    "# Treinando o modelo com dados de treino e checando o score\n",
    "modelo.fit(x_treino,y_treino)\n",
    "modelo.score(x_treino, y_treino)\n"
   ]
  },
  {
   "cell_type": "code",
   "execution_count": null,
   "metadata": {},
   "outputs": [],
   "source": [
    "valores_previstos = modelo.predict(x_teste)"
   ]
  },
  {
   "cell_type": "code",
   "execution_count": null,
   "metadata": {},
   "outputs": [],
   "source": [
    "dados_teste['previsto'] = valores_previstos"
   ]
  },
  {
   "cell_type": "code",
   "execution_count": null,
   "metadata": {},
   "outputs": [],
   "source": [
    "dados_teste"
   ]
  },
  {
   "cell_type": "code",
   "execution_count": null,
   "metadata": {},
   "outputs": [],
   "source": [
    "for coef, var in sorted(zip(map(abs, modelo.coef_), dados_treino.columns[:-1]), reverse = True):\n",
    "    print (\"%6.3f %s\" % (coef,var))"
   ]
  },
  {
   "cell_type": "code",
   "execution_count": null,
   "metadata": {},
   "outputs": [],
   "source": [
    "standardization = StandardScaler()\n",
    "Stand_coef_linear_reg = make_pipeline(standardization, modelo)"
   ]
  },
  {
   "cell_type": "code",
   "execution_count": null,
   "metadata": {},
   "outputs": [],
   "source": [
    "Stand_coef_linear_reg.fit(X,y)\n",
    "for coef, var in sorted(zip(map(abs, Stand_coef_linear_reg.steps[1][1].coef_), dados_treino.columns[:-1]), reverse = True):\n",
    "    print (\"%6.3f %s\" % (coef,var))"
   ]
  },
  {
   "cell_type": "code",
   "execution_count": null,
   "metadata": {},
   "outputs": [],
   "source": [
    "modelo2 = lm.LinearRegression(normalize = False, fit_intercept = True)"
   ]
  },
  {
   "cell_type": "code",
   "execution_count": null,
   "metadata": {},
   "outputs": [],
   "source": [
    "def r2_est(X,y):\n",
    "    return r2_score(y, modelo.fit(X,y).predict(X))"
   ]
  },
  {
   "cell_type": "code",
   "execution_count": null,
   "metadata": {},
   "outputs": [],
   "source": [
    "print ('Baseline R2: %0.3f' %  r2_est(X,y))"
   ]
  },
  {
   "cell_type": "code",
   "execution_count": null,
   "metadata": {},
   "outputs": [],
   "source": []
  }
 ],
 "metadata": {
  "kernelspec": {
   "display_name": "Python 3",
   "language": "python",
   "name": "python3"
  },
  "language_info": {
   "codemirror_mode": {
    "name": "ipython",
    "version": 3
   },
   "file_extension": ".py",
   "mimetype": "text/x-python",
   "name": "python",
   "nbconvert_exporter": "python",
   "pygments_lexer": "ipython3",
   "version": "3.7.3"
  }
 },
 "nbformat": 4,
 "nbformat_minor": 4
}
